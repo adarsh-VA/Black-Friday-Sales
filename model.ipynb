{
 "cells": [
  {
   "cell_type": "markdown",
   "id": "ef1bebe3",
   "metadata": {},
   "source": [
    "## Step 0: Import libraries and dataset\n"
   ]
  },
  {
   "cell_type": "code",
   "execution_count": 1,
   "id": "d095b8be",
   "metadata": {},
   "outputs": [],
   "source": [
    "import numpy as np # linear algebra\n",
    "import pandas as pd\n",
    "import matplotlib.pyplot as plt\n",
    "import seaborn as sns"
   ]
  },
  {
   "cell_type": "markdown",
   "id": "f465442c",
   "metadata": {},
   "source": [
    "## Step 1: Descriptive analysis"
   ]
  },
  {
   "cell_type": "code",
   "execution_count": 2,
   "id": "786a0b8b",
   "metadata": {},
   "outputs": [
    {
     "data": {
      "text/html": [
       "<div>\n",
       "<style scoped>\n",
       "    .dataframe tbody tr th:only-of-type {\n",
       "        vertical-align: middle;\n",
       "    }\n",
       "\n",
       "    .dataframe tbody tr th {\n",
       "        vertical-align: top;\n",
       "    }\n",
       "\n",
       "    .dataframe thead th {\n",
       "        text-align: right;\n",
       "    }\n",
       "</style>\n",
       "<table border=\"1\" class=\"dataframe\">\n",
       "  <thead>\n",
       "    <tr style=\"text-align: right;\">\n",
       "      <th></th>\n",
       "      <th>User_ID</th>\n",
       "      <th>Product_ID</th>\n",
       "      <th>Gender</th>\n",
       "      <th>Age</th>\n",
       "      <th>Occupation</th>\n",
       "      <th>City_Category</th>\n",
       "      <th>Stay_In_Current_City_Years</th>\n",
       "      <th>Marital_Status</th>\n",
       "      <th>Product_Category_1</th>\n",
       "      <th>Product_Category_2</th>\n",
       "      <th>Product_Category_3</th>\n",
       "      <th>Purchase</th>\n",
       "    </tr>\n",
       "  </thead>\n",
       "  <tbody>\n",
       "    <tr>\n",
       "      <th>0</th>\n",
       "      <td>1000001</td>\n",
       "      <td>P00069042</td>\n",
       "      <td>F</td>\n",
       "      <td>0-17</td>\n",
       "      <td>10</td>\n",
       "      <td>A</td>\n",
       "      <td>2</td>\n",
       "      <td>0</td>\n",
       "      <td>3</td>\n",
       "      <td>NaN</td>\n",
       "      <td>NaN</td>\n",
       "      <td>8370</td>\n",
       "    </tr>\n",
       "    <tr>\n",
       "      <th>1</th>\n",
       "      <td>1000001</td>\n",
       "      <td>P00248942</td>\n",
       "      <td>F</td>\n",
       "      <td>0-17</td>\n",
       "      <td>10</td>\n",
       "      <td>A</td>\n",
       "      <td>2</td>\n",
       "      <td>0</td>\n",
       "      <td>1</td>\n",
       "      <td>6.0</td>\n",
       "      <td>14.0</td>\n",
       "      <td>15200</td>\n",
       "    </tr>\n",
       "    <tr>\n",
       "      <th>2</th>\n",
       "      <td>1000001</td>\n",
       "      <td>P00087842</td>\n",
       "      <td>F</td>\n",
       "      <td>0-17</td>\n",
       "      <td>10</td>\n",
       "      <td>A</td>\n",
       "      <td>2</td>\n",
       "      <td>0</td>\n",
       "      <td>12</td>\n",
       "      <td>NaN</td>\n",
       "      <td>NaN</td>\n",
       "      <td>1422</td>\n",
       "    </tr>\n",
       "    <tr>\n",
       "      <th>3</th>\n",
       "      <td>1000001</td>\n",
       "      <td>P00085442</td>\n",
       "      <td>F</td>\n",
       "      <td>0-17</td>\n",
       "      <td>10</td>\n",
       "      <td>A</td>\n",
       "      <td>2</td>\n",
       "      <td>0</td>\n",
       "      <td>12</td>\n",
       "      <td>14.0</td>\n",
       "      <td>NaN</td>\n",
       "      <td>1057</td>\n",
       "    </tr>\n",
       "    <tr>\n",
       "      <th>4</th>\n",
       "      <td>1000002</td>\n",
       "      <td>P00285442</td>\n",
       "      <td>M</td>\n",
       "      <td>55+</td>\n",
       "      <td>16</td>\n",
       "      <td>C</td>\n",
       "      <td>4+</td>\n",
       "      <td>0</td>\n",
       "      <td>8</td>\n",
       "      <td>NaN</td>\n",
       "      <td>NaN</td>\n",
       "      <td>7969</td>\n",
       "    </tr>\n",
       "  </tbody>\n",
       "</table>\n",
       "</div>"
      ],
      "text/plain": [
       "   User_ID Product_ID Gender   Age  Occupation City_Category  \\\n",
       "0  1000001  P00069042      F  0-17          10             A   \n",
       "1  1000001  P00248942      F  0-17          10             A   \n",
       "2  1000001  P00087842      F  0-17          10             A   \n",
       "3  1000001  P00085442      F  0-17          10             A   \n",
       "4  1000002  P00285442      M   55+          16             C   \n",
       "\n",
       "  Stay_In_Current_City_Years  Marital_Status  Product_Category_1  \\\n",
       "0                          2               0                   3   \n",
       "1                          2               0                   1   \n",
       "2                          2               0                  12   \n",
       "3                          2               0                  12   \n",
       "4                         4+               0                   8   \n",
       "\n",
       "   Product_Category_2  Product_Category_3  Purchase  \n",
       "0                 NaN                 NaN      8370  \n",
       "1                 6.0                14.0     15200  \n",
       "2                 NaN                 NaN      1422  \n",
       "3                14.0                 NaN      1057  \n",
       "4                 NaN                 NaN      7969  "
      ]
     },
     "execution_count": 2,
     "metadata": {},
     "output_type": "execute_result"
    }
   ],
   "source": [
    "dataset=pd.read_csv('BlackFriday2.csv')\n",
    "dataset.head()"
   ]
  },
  {
   "cell_type": "code",
   "execution_count": 3,
   "id": "34591c60",
   "metadata": {},
   "outputs": [
    {
     "name": "stdout",
     "output_type": "stream",
     "text": [
      "<class 'pandas.core.frame.DataFrame'>\n",
      "RangeIndex: 10996 entries, 0 to 10995\n",
      "Data columns (total 12 columns):\n",
      " #   Column                      Non-Null Count  Dtype  \n",
      "---  ------                      --------------  -----  \n",
      " 0   User_ID                     10996 non-null  int64  \n",
      " 1   Product_ID                  10996 non-null  object \n",
      " 2   Gender                      10996 non-null  object \n",
      " 3   Age                         10996 non-null  object \n",
      " 4   Occupation                  10996 non-null  int64  \n",
      " 5   City_Category               10996 non-null  object \n",
      " 6   Stay_In_Current_City_Years  10996 non-null  object \n",
      " 7   Marital_Status              10996 non-null  int64  \n",
      " 8   Product_Category_1          10996 non-null  int64  \n",
      " 9   Product_Category_2          7423 non-null   float64\n",
      " 10  Product_Category_3          3319 non-null   float64\n",
      " 11  Purchase                    10996 non-null  int64  \n",
      "dtypes: float64(2), int64(5), object(5)\n",
      "memory usage: 1.0+ MB\n"
     ]
    }
   ],
   "source": [
    "dataset.info()"
   ]
  },
  {
   "cell_type": "code",
   "execution_count": 4,
   "id": "44b9a345",
   "metadata": {},
   "outputs": [
    {
     "data": {
      "text/html": [
       "<div>\n",
       "<style scoped>\n",
       "    .dataframe tbody tr th:only-of-type {\n",
       "        vertical-align: middle;\n",
       "    }\n",
       "\n",
       "    .dataframe tbody tr th {\n",
       "        vertical-align: top;\n",
       "    }\n",
       "\n",
       "    .dataframe thead th {\n",
       "        text-align: right;\n",
       "    }\n",
       "</style>\n",
       "<table border=\"1\" class=\"dataframe\">\n",
       "  <thead>\n",
       "    <tr style=\"text-align: right;\">\n",
       "      <th></th>\n",
       "      <th>User_ID</th>\n",
       "      <th>Occupation</th>\n",
       "      <th>Marital_Status</th>\n",
       "      <th>Product_Category_1</th>\n",
       "      <th>Product_Category_2</th>\n",
       "      <th>Product_Category_3</th>\n",
       "      <th>Purchase</th>\n",
       "    </tr>\n",
       "  </thead>\n",
       "  <tbody>\n",
       "    <tr>\n",
       "      <th>count</th>\n",
       "      <td>1.099600e+04</td>\n",
       "      <td>10996.000000</td>\n",
       "      <td>10996.000000</td>\n",
       "      <td>10996.000000</td>\n",
       "      <td>7423.000000</td>\n",
       "      <td>3319.000000</td>\n",
       "      <td>10996.000000</td>\n",
       "    </tr>\n",
       "    <tr>\n",
       "      <th>mean</th>\n",
       "      <td>1.000865e+06</td>\n",
       "      <td>8.449709</td>\n",
       "      <td>0.401510</td>\n",
       "      <td>5.295198</td>\n",
       "      <td>9.779873</td>\n",
       "      <td>12.812293</td>\n",
       "      <td>9182.258912</td>\n",
       "    </tr>\n",
       "    <tr>\n",
       "      <th>std</th>\n",
       "      <td>4.815020e+02</td>\n",
       "      <td>6.725037</td>\n",
       "      <td>0.490226</td>\n",
       "      <td>3.672740</td>\n",
       "      <td>5.069901</td>\n",
       "      <td>4.055152</td>\n",
       "      <td>4879.750484</td>\n",
       "    </tr>\n",
       "    <tr>\n",
       "      <th>min</th>\n",
       "      <td>1.000001e+06</td>\n",
       "      <td>0.000000</td>\n",
       "      <td>0.000000</td>\n",
       "      <td>1.000000</td>\n",
       "      <td>2.000000</td>\n",
       "      <td>3.000000</td>\n",
       "      <td>186.000000</td>\n",
       "    </tr>\n",
       "    <tr>\n",
       "      <th>25%</th>\n",
       "      <td>1.000439e+06</td>\n",
       "      <td>2.000000</td>\n",
       "      <td>0.000000</td>\n",
       "      <td>1.000000</td>\n",
       "      <td>5.000000</td>\n",
       "      <td>9.000000</td>\n",
       "      <td>5834.750000</td>\n",
       "    </tr>\n",
       "    <tr>\n",
       "      <th>50%</th>\n",
       "      <td>1.000889e+06</td>\n",
       "      <td>7.000000</td>\n",
       "      <td>0.000000</td>\n",
       "      <td>5.000000</td>\n",
       "      <td>8.000000</td>\n",
       "      <td>15.000000</td>\n",
       "      <td>8036.000000</td>\n",
       "    </tr>\n",
       "    <tr>\n",
       "      <th>75%</th>\n",
       "      <td>1.001273e+06</td>\n",
       "      <td>15.000000</td>\n",
       "      <td>1.000000</td>\n",
       "      <td>8.000000</td>\n",
       "      <td>15.000000</td>\n",
       "      <td>16.000000</td>\n",
       "      <td>11948.000000</td>\n",
       "    </tr>\n",
       "    <tr>\n",
       "      <th>max</th>\n",
       "      <td>1.001676e+06</td>\n",
       "      <td>20.000000</td>\n",
       "      <td>1.000000</td>\n",
       "      <td>18.000000</td>\n",
       "      <td>18.000000</td>\n",
       "      <td>18.000000</td>\n",
       "      <td>23958.000000</td>\n",
       "    </tr>\n",
       "  </tbody>\n",
       "</table>\n",
       "</div>"
      ],
      "text/plain": [
       "            User_ID    Occupation  Marital_Status  Product_Category_1  \\\n",
       "count  1.099600e+04  10996.000000    10996.000000        10996.000000   \n",
       "mean   1.000865e+06      8.449709        0.401510            5.295198   \n",
       "std    4.815020e+02      6.725037        0.490226            3.672740   \n",
       "min    1.000001e+06      0.000000        0.000000            1.000000   \n",
       "25%    1.000439e+06      2.000000        0.000000            1.000000   \n",
       "50%    1.000889e+06      7.000000        0.000000            5.000000   \n",
       "75%    1.001273e+06     15.000000        1.000000            8.000000   \n",
       "max    1.001676e+06     20.000000        1.000000           18.000000   \n",
       "\n",
       "       Product_Category_2  Product_Category_3      Purchase  \n",
       "count         7423.000000         3319.000000  10996.000000  \n",
       "mean             9.779873           12.812293   9182.258912  \n",
       "std              5.069901            4.055152   4879.750484  \n",
       "min              2.000000            3.000000    186.000000  \n",
       "25%              5.000000            9.000000   5834.750000  \n",
       "50%              8.000000           15.000000   8036.000000  \n",
       "75%             15.000000           16.000000  11948.000000  \n",
       "max             18.000000           18.000000  23958.000000  "
      ]
     },
     "execution_count": 4,
     "metadata": {},
     "output_type": "execute_result"
    }
   ],
   "source": [
    "dataset.describe()"
   ]
  },
  {
   "cell_type": "code",
   "execution_count": 5,
   "id": "a95edc51",
   "metadata": {},
   "outputs": [
    {
     "data": {
      "text/html": [
       "<div>\n",
       "<style scoped>\n",
       "    .dataframe tbody tr th:only-of-type {\n",
       "        vertical-align: middle;\n",
       "    }\n",
       "\n",
       "    .dataframe tbody tr th {\n",
       "        vertical-align: top;\n",
       "    }\n",
       "\n",
       "    .dataframe thead th {\n",
       "        text-align: right;\n",
       "    }\n",
       "</style>\n",
       "<table border=\"1\" class=\"dataframe\">\n",
       "  <thead>\n",
       "    <tr style=\"text-align: right;\">\n",
       "      <th></th>\n",
       "      <th>User_ID</th>\n",
       "      <th>Product_ID</th>\n",
       "      <th>Gender</th>\n",
       "      <th>Age</th>\n",
       "      <th>Occupation</th>\n",
       "      <th>City_Category</th>\n",
       "      <th>Stay_In_Current_City_Years</th>\n",
       "      <th>Marital_Status</th>\n",
       "      <th>Product_Category_1</th>\n",
       "      <th>Product_Category_2</th>\n",
       "      <th>Product_Category_3</th>\n",
       "      <th>Purchase</th>\n",
       "    </tr>\n",
       "  </thead>\n",
       "  <tbody>\n",
       "    <tr>\n",
       "      <th>0</th>\n",
       "      <td>1000001</td>\n",
       "      <td>P00069042</td>\n",
       "      <td>F</td>\n",
       "      <td>0-17</td>\n",
       "      <td>10</td>\n",
       "      <td>A</td>\n",
       "      <td>2</td>\n",
       "      <td>0</td>\n",
       "      <td>3</td>\n",
       "      <td>NaN</td>\n",
       "      <td>NaN</td>\n",
       "      <td>8370</td>\n",
       "    </tr>\n",
       "    <tr>\n",
       "      <th>1</th>\n",
       "      <td>1000001</td>\n",
       "      <td>P00248942</td>\n",
       "      <td>F</td>\n",
       "      <td>0-17</td>\n",
       "      <td>10</td>\n",
       "      <td>A</td>\n",
       "      <td>2</td>\n",
       "      <td>0</td>\n",
       "      <td>1</td>\n",
       "      <td>6.0</td>\n",
       "      <td>14.0</td>\n",
       "      <td>15200</td>\n",
       "    </tr>\n",
       "    <tr>\n",
       "      <th>2</th>\n",
       "      <td>1000001</td>\n",
       "      <td>P00087842</td>\n",
       "      <td>F</td>\n",
       "      <td>0-17</td>\n",
       "      <td>10</td>\n",
       "      <td>A</td>\n",
       "      <td>2</td>\n",
       "      <td>0</td>\n",
       "      <td>12</td>\n",
       "      <td>NaN</td>\n",
       "      <td>NaN</td>\n",
       "      <td>1422</td>\n",
       "    </tr>\n",
       "    <tr>\n",
       "      <th>3</th>\n",
       "      <td>1000001</td>\n",
       "      <td>P00085442</td>\n",
       "      <td>F</td>\n",
       "      <td>0-17</td>\n",
       "      <td>10</td>\n",
       "      <td>A</td>\n",
       "      <td>2</td>\n",
       "      <td>0</td>\n",
       "      <td>12</td>\n",
       "      <td>14.0</td>\n",
       "      <td>NaN</td>\n",
       "      <td>1057</td>\n",
       "    </tr>\n",
       "    <tr>\n",
       "      <th>4</th>\n",
       "      <td>1000002</td>\n",
       "      <td>P00285442</td>\n",
       "      <td>M</td>\n",
       "      <td>55+</td>\n",
       "      <td>16</td>\n",
       "      <td>C</td>\n",
       "      <td>4+</td>\n",
       "      <td>0</td>\n",
       "      <td>8</td>\n",
       "      <td>NaN</td>\n",
       "      <td>NaN</td>\n",
       "      <td>7969</td>\n",
       "    </tr>\n",
       "    <tr>\n",
       "      <th>5</th>\n",
       "      <td>1000003</td>\n",
       "      <td>P00193542</td>\n",
       "      <td>M</td>\n",
       "      <td>26-35</td>\n",
       "      <td>15</td>\n",
       "      <td>A</td>\n",
       "      <td>3</td>\n",
       "      <td>0</td>\n",
       "      <td>1</td>\n",
       "      <td>2.0</td>\n",
       "      <td>NaN</td>\n",
       "      <td>15227</td>\n",
       "    </tr>\n",
       "    <tr>\n",
       "      <th>6</th>\n",
       "      <td>1000004</td>\n",
       "      <td>P00184942</td>\n",
       "      <td>M</td>\n",
       "      <td>46-50</td>\n",
       "      <td>7</td>\n",
       "      <td>B</td>\n",
       "      <td>2</td>\n",
       "      <td>1</td>\n",
       "      <td>1</td>\n",
       "      <td>8.0</td>\n",
       "      <td>17.0</td>\n",
       "      <td>19215</td>\n",
       "    </tr>\n",
       "    <tr>\n",
       "      <th>7</th>\n",
       "      <td>1000004</td>\n",
       "      <td>P00346142</td>\n",
       "      <td>M</td>\n",
       "      <td>46-50</td>\n",
       "      <td>7</td>\n",
       "      <td>B</td>\n",
       "      <td>2</td>\n",
       "      <td>1</td>\n",
       "      <td>1</td>\n",
       "      <td>15.0</td>\n",
       "      <td>NaN</td>\n",
       "      <td>15854</td>\n",
       "    </tr>\n",
       "    <tr>\n",
       "      <th>8</th>\n",
       "      <td>1000004</td>\n",
       "      <td>P0097242</td>\n",
       "      <td>M</td>\n",
       "      <td>46-50</td>\n",
       "      <td>7</td>\n",
       "      <td>B</td>\n",
       "      <td>2</td>\n",
       "      <td>1</td>\n",
       "      <td>1</td>\n",
       "      <td>16.0</td>\n",
       "      <td>NaN</td>\n",
       "      <td>15686</td>\n",
       "    </tr>\n",
       "    <tr>\n",
       "      <th>9</th>\n",
       "      <td>1000005</td>\n",
       "      <td>P00274942</td>\n",
       "      <td>M</td>\n",
       "      <td>26-35</td>\n",
       "      <td>20</td>\n",
       "      <td>A</td>\n",
       "      <td>1</td>\n",
       "      <td>1</td>\n",
       "      <td>8</td>\n",
       "      <td>NaN</td>\n",
       "      <td>NaN</td>\n",
       "      <td>7871</td>\n",
       "    </tr>\n",
       "    <tr>\n",
       "      <th>10</th>\n",
       "      <td>1000005</td>\n",
       "      <td>P00251242</td>\n",
       "      <td>M</td>\n",
       "      <td>26-35</td>\n",
       "      <td>20</td>\n",
       "      <td>A</td>\n",
       "      <td>1</td>\n",
       "      <td>1</td>\n",
       "      <td>5</td>\n",
       "      <td>11.0</td>\n",
       "      <td>NaN</td>\n",
       "      <td>5254</td>\n",
       "    </tr>\n",
       "    <tr>\n",
       "      <th>11</th>\n",
       "      <td>1000005</td>\n",
       "      <td>P00014542</td>\n",
       "      <td>M</td>\n",
       "      <td>26-35</td>\n",
       "      <td>20</td>\n",
       "      <td>A</td>\n",
       "      <td>1</td>\n",
       "      <td>1</td>\n",
       "      <td>8</td>\n",
       "      <td>NaN</td>\n",
       "      <td>NaN</td>\n",
       "      <td>3957</td>\n",
       "    </tr>\n",
       "    <tr>\n",
       "      <th>12</th>\n",
       "      <td>1000005</td>\n",
       "      <td>P00031342</td>\n",
       "      <td>M</td>\n",
       "      <td>26-35</td>\n",
       "      <td>20</td>\n",
       "      <td>A</td>\n",
       "      <td>1</td>\n",
       "      <td>1</td>\n",
       "      <td>8</td>\n",
       "      <td>NaN</td>\n",
       "      <td>NaN</td>\n",
       "      <td>6073</td>\n",
       "    </tr>\n",
       "    <tr>\n",
       "      <th>13</th>\n",
       "      <td>1000005</td>\n",
       "      <td>P00145042</td>\n",
       "      <td>M</td>\n",
       "      <td>26-35</td>\n",
       "      <td>20</td>\n",
       "      <td>A</td>\n",
       "      <td>1</td>\n",
       "      <td>1</td>\n",
       "      <td>1</td>\n",
       "      <td>2.0</td>\n",
       "      <td>5.0</td>\n",
       "      <td>15665</td>\n",
       "    </tr>\n",
       "    <tr>\n",
       "      <th>14</th>\n",
       "      <td>1000006</td>\n",
       "      <td>P00231342</td>\n",
       "      <td>F</td>\n",
       "      <td>51-55</td>\n",
       "      <td>9</td>\n",
       "      <td>A</td>\n",
       "      <td>1</td>\n",
       "      <td>0</td>\n",
       "      <td>5</td>\n",
       "      <td>8.0</td>\n",
       "      <td>14.0</td>\n",
       "      <td>5378</td>\n",
       "    </tr>\n",
       "    <tr>\n",
       "      <th>15</th>\n",
       "      <td>1000006</td>\n",
       "      <td>P00190242</td>\n",
       "      <td>F</td>\n",
       "      <td>51-55</td>\n",
       "      <td>9</td>\n",
       "      <td>A</td>\n",
       "      <td>1</td>\n",
       "      <td>0</td>\n",
       "      <td>4</td>\n",
       "      <td>5.0</td>\n",
       "      <td>NaN</td>\n",
       "      <td>2079</td>\n",
       "    </tr>\n",
       "    <tr>\n",
       "      <th>16</th>\n",
       "      <td>1000006</td>\n",
       "      <td>P0096642</td>\n",
       "      <td>F</td>\n",
       "      <td>51-55</td>\n",
       "      <td>9</td>\n",
       "      <td>A</td>\n",
       "      <td>1</td>\n",
       "      <td>0</td>\n",
       "      <td>2</td>\n",
       "      <td>3.0</td>\n",
       "      <td>4.0</td>\n",
       "      <td>13055</td>\n",
       "    </tr>\n",
       "    <tr>\n",
       "      <th>17</th>\n",
       "      <td>1000006</td>\n",
       "      <td>P00058442</td>\n",
       "      <td>F</td>\n",
       "      <td>51-55</td>\n",
       "      <td>9</td>\n",
       "      <td>A</td>\n",
       "      <td>1</td>\n",
       "      <td>0</td>\n",
       "      <td>5</td>\n",
       "      <td>14.0</td>\n",
       "      <td>NaN</td>\n",
       "      <td>8851</td>\n",
       "    </tr>\n",
       "    <tr>\n",
       "      <th>18</th>\n",
       "      <td>1000007</td>\n",
       "      <td>P00036842</td>\n",
       "      <td>M</td>\n",
       "      <td>36-45</td>\n",
       "      <td>1</td>\n",
       "      <td>B</td>\n",
       "      <td>1</td>\n",
       "      <td>1</td>\n",
       "      <td>1</td>\n",
       "      <td>14.0</td>\n",
       "      <td>16.0</td>\n",
       "      <td>11788</td>\n",
       "    </tr>\n",
       "    <tr>\n",
       "      <th>19</th>\n",
       "      <td>1000008</td>\n",
       "      <td>P00249542</td>\n",
       "      <td>M</td>\n",
       "      <td>26-35</td>\n",
       "      <td>12</td>\n",
       "      <td>C</td>\n",
       "      <td>4+</td>\n",
       "      <td>1</td>\n",
       "      <td>1</td>\n",
       "      <td>5.0</td>\n",
       "      <td>15.0</td>\n",
       "      <td>19614</td>\n",
       "    </tr>\n",
       "  </tbody>\n",
       "</table>\n",
       "</div>"
      ],
      "text/plain": [
       "    User_ID Product_ID Gender    Age  Occupation City_Category  \\\n",
       "0   1000001  P00069042      F   0-17          10             A   \n",
       "1   1000001  P00248942      F   0-17          10             A   \n",
       "2   1000001  P00087842      F   0-17          10             A   \n",
       "3   1000001  P00085442      F   0-17          10             A   \n",
       "4   1000002  P00285442      M    55+          16             C   \n",
       "5   1000003  P00193542      M  26-35          15             A   \n",
       "6   1000004  P00184942      M  46-50           7             B   \n",
       "7   1000004  P00346142      M  46-50           7             B   \n",
       "8   1000004   P0097242      M  46-50           7             B   \n",
       "9   1000005  P00274942      M  26-35          20             A   \n",
       "10  1000005  P00251242      M  26-35          20             A   \n",
       "11  1000005  P00014542      M  26-35          20             A   \n",
       "12  1000005  P00031342      M  26-35          20             A   \n",
       "13  1000005  P00145042      M  26-35          20             A   \n",
       "14  1000006  P00231342      F  51-55           9             A   \n",
       "15  1000006  P00190242      F  51-55           9             A   \n",
       "16  1000006   P0096642      F  51-55           9             A   \n",
       "17  1000006  P00058442      F  51-55           9             A   \n",
       "18  1000007  P00036842      M  36-45           1             B   \n",
       "19  1000008  P00249542      M  26-35          12             C   \n",
       "\n",
       "   Stay_In_Current_City_Years  Marital_Status  Product_Category_1  \\\n",
       "0                           2               0                   3   \n",
       "1                           2               0                   1   \n",
       "2                           2               0                  12   \n",
       "3                           2               0                  12   \n",
       "4                          4+               0                   8   \n",
       "5                           3               0                   1   \n",
       "6                           2               1                   1   \n",
       "7                           2               1                   1   \n",
       "8                           2               1                   1   \n",
       "9                           1               1                   8   \n",
       "10                          1               1                   5   \n",
       "11                          1               1                   8   \n",
       "12                          1               1                   8   \n",
       "13                          1               1                   1   \n",
       "14                          1               0                   5   \n",
       "15                          1               0                   4   \n",
       "16                          1               0                   2   \n",
       "17                          1               0                   5   \n",
       "18                          1               1                   1   \n",
       "19                         4+               1                   1   \n",
       "\n",
       "    Product_Category_2  Product_Category_3  Purchase  \n",
       "0                  NaN                 NaN      8370  \n",
       "1                  6.0                14.0     15200  \n",
       "2                  NaN                 NaN      1422  \n",
       "3                 14.0                 NaN      1057  \n",
       "4                  NaN                 NaN      7969  \n",
       "5                  2.0                 NaN     15227  \n",
       "6                  8.0                17.0     19215  \n",
       "7                 15.0                 NaN     15854  \n",
       "8                 16.0                 NaN     15686  \n",
       "9                  NaN                 NaN      7871  \n",
       "10                11.0                 NaN      5254  \n",
       "11                 NaN                 NaN      3957  \n",
       "12                 NaN                 NaN      6073  \n",
       "13                 2.0                 5.0     15665  \n",
       "14                 8.0                14.0      5378  \n",
       "15                 5.0                 NaN      2079  \n",
       "16                 3.0                 4.0     13055  \n",
       "17                14.0                 NaN      8851  \n",
       "18                14.0                16.0     11788  \n",
       "19                 5.0                15.0     19614  "
      ]
     },
     "execution_count": 5,
     "metadata": {},
     "output_type": "execute_result"
    }
   ],
   "source": [
    "dataset.head(20)"
   ]
  },
  {
   "cell_type": "markdown",
   "id": "8c8bd1d7",
   "metadata": {},
   "source": [
    "## Step 2: Exploratory Data Analysis"
   ]
  },
  {
   "cell_type": "code",
   "execution_count": 6,
   "id": "ecba38c1",
   "metadata": {},
   "outputs": [
    {
     "data": {
      "text/plain": [
       "<AxesSubplot:>"
      ]
     },
     "execution_count": 6,
     "metadata": {},
     "output_type": "execute_result"
    },
    {
     "data": {
      "image/png": "[encoded data removed]",
      "text/plain": [
       "<Figure size 432x288 with 2 Axes>"
      ]
     },
     "metadata": {
      "needs_background": "light"
     },
     "output_type": "display_data"
    }
   ],
   "source": [
    "#At this stage, I will exploratory data analysis by visualising the data, in particular, by visualising the statistical relationship between the different variables.\n",
    "\n",
    "#Exploratory data analysis supported by data visualisations.\n",
    "sns.heatmap(\n",
    "    dataset.corr(),\n",
    "    annot=True\n",
    ")"
   ]
  },
  {
   "cell_type": "code",
   "execution_count": 7,
   "id": "a870618a",
   "metadata": {},
   "outputs": [
    {
     "name": "stderr",
     "output_type": "stream",
     "text": [
      "c:\\users\\adarsh\\appdata\\local\\programs\\python\\python39\\lib\\site-packages\\seaborn\\axisgrid.py:643: UserWarning: Using the barplot function without specifying `order` is likely to produce an incorrect plot.\n",
      "  warnings.warn(warning)\n"
     ]
    },
    {
     "data": {
      "image/png": "[encoded data removed]",
      "text/plain": [
       "<Figure size 648x216 with 3 Axes>"
      ]
     },
     "metadata": {
      "needs_background": "light"
     },
     "output_type": "display_data"
    }
   ],
   "source": [
    "#First insight would be that most of the purchase is done between 5000-10000.\n",
    "#Next important insight, would be the occupations that lead to highest purchases. In this case, it would be occupation 4, listed in the dataset, closely followed that by 0 and 7.\n",
    "#One can imagine that the store can run targeted advertiements next time around to people with above listed occupations as they more likely to spend within the above purchase range.\n",
    "\n",
    "#To get a better understanding, we will now analyse the purchase habits across the different city categories.\n",
    "\n",
    "g = sns.FacetGrid(dataset,col=\"City_Category\")\n",
    "g.map(sns.barplot, \"Gender\", \"Purchase\");"
   ]
  },
  {
   "cell_type": "code",
   "execution_count": 59,
   "id": "4a5e9e6a",
   "metadata": {},
   "outputs": [
    {
     "data": {
      "image/png": "[encoded data removed]",
      "text/plain": [
       "<Figure size 1000x700 with 1 Axes>"
      ]
     },
     "metadata": {},
     "output_type": "display_data"
    }
   ],
   "source": [
    "# Creating a pie chart for 'City Category'\n",
    "city = dataset['City_Category'].value_counts()\n",
    "plt.style.use('seaborn')\n",
    "plt.figure(figsize = (10, 7))\n",
    "plt.pie(city.values, labels = city.index, startangle = 30, explode = (0 , 0.20, 0), shadow = True, autopct = '%1.1f%%')\n",
    "plt.title('City category distribution', fontdict = {'fontname' : 'Monospace', 'fontsize' : 30, 'fontweight' : 'bold'})\n",
    "plt.legend()\n",
    "plt.legend(prop = {'size' : 20})\n",
    "plt.axis('equal')\n",
    "plt.show()"
   ]
  },
  {
   "cell_type": "code",
   "execution_count": 67,
   "id": "947bd0b8",
   "metadata": {},
   "outputs": [
    {
     "name": "stderr",
     "output_type": "stream",
     "text": [
      "c:\\users\\adarsh\\appdata\\local\\programs\\python\\python39\\lib\\site-packages\\seaborn\\_decorators.py:36: FutureWarning: Pass the following variables as keyword args: x, y. From version 0.12, the only valid positional argument will be `data`, and passing other arguments without an explicit keyword will result in an error or misinterpretation.\n",
      "  warnings.warn(\n"
     ]
    },
    {
     "data": {
      "image/png": "[encoded data removed]",
      "text/plain": [
       "<Figure size 2000x700 with 1 Axes>"
      ]
     },
     "metadata": {},
     "output_type": "display_data"
    }
   ],
   "source": [
    "# Creating a barplot of 'Product_Category_1 vs Purchase'\n",
    "plt.style.use('seaborn')\n",
    "plt.figure(figsize = (20, 7))\n",
    "sns.barplot(dataset['Product_Category_1'], dataset['Purchase'], palette = 'colorblind')\n",
    "plt.title('Purchase amount across Product Category', fontdict = {'fontname' : 'Monospace', 'fontsize' : 20, 'fontweight' : 'bold'})\n",
    "plt.xlabel('Product Category', fontdict = {'fontname' : 'Monospace', 'fontsize' : 15})\n",
    "plt.ylabel('Purchase amount', fontdict = {'fontname' : 'Monospace', 'fontsize' : 15})\n",
    "plt.tick_params(labelsize = 20)\n",
    "plt.grid()\n",
    "plt.show()"
   ]
  },
  {
   "cell_type": "markdown",
   "id": "5fc38aa3",
   "metadata": {},
   "source": [
    "## Step 3: Data preprocessing"
   ]
  },
  {
   "cell_type": "code",
   "execution_count": 9,
   "id": "45fa4b0a",
   "metadata": {},
   "outputs": [
    {
     "name": "stdout",
     "output_type": "stream",
     "text": [
      "<class 'pandas.core.frame.DataFrame'>\n",
      "RangeIndex: 10996 entries, 0 to 10995\n",
      "Data columns (total 12 columns):\n",
      " #   Column                      Non-Null Count  Dtype  \n",
      "---  ------                      --------------  -----  \n",
      " 0   User_ID                     10996 non-null  int64  \n",
      " 1   Product_ID                  10996 non-null  object \n",
      " 2   Gender                      10996 non-null  object \n",
      " 3   Age                         10996 non-null  object \n",
      " 4   Occupation                  10996 non-null  int64  \n",
      " 5   City_Category               10996 non-null  object \n",
      " 6   Stay_In_Current_City_Years  10996 non-null  object \n",
      " 7   Marital_Status              10996 non-null  int64  \n",
      " 8   Product_Category_1          10996 non-null  int64  \n",
      " 9   Product_Category_2          10996 non-null  float64\n",
      " 10  Product_Category_3          10996 non-null  float64\n",
      " 11  Purchase                    10996 non-null  int64  \n",
      "dtypes: float64(2), int64(5), object(5)\n",
      "memory usage: 1.0+ MB\n"
     ]
    }
   ],
   "source": [
    "from sklearn.impute import SimpleImputer\n",
    "imputer = SimpleImputer(missing_values=np.nan, strategy='mean')\n",
    "imputer = imputer.fit(dataset.iloc[:, 9:11].values)\n",
    "dataset.iloc[:,9:11] = imputer.transform(dataset.iloc[:, 9:11].values)\n",
    "dataset.info() \n"
   ]
  },
  {
   "cell_type": "code",
   "execution_count": 10,
   "id": "d5297428",
   "metadata": {},
   "outputs": [
    {
     "name": "stdout",
     "output_type": "stream",
     "text": [
      "<class 'pandas.core.frame.DataFrame'>\n",
      "RangeIndex: 10996 entries, 0 to 10995\n",
      "Data columns (total 12 columns):\n",
      " #   Column                      Non-Null Count  Dtype  \n",
      "---  ------                      --------------  -----  \n",
      " 0   User_ID                     10996 non-null  int64  \n",
      " 1   Product_ID                  10996 non-null  object \n",
      " 2   Gender                      10996 non-null  object \n",
      " 3   Age                         10996 non-null  object \n",
      " 4   Occupation                  10996 non-null  int64  \n",
      " 5   City_Category               10996 non-null  object \n",
      " 6   Stay_In_Current_City_Years  10996 non-null  object \n",
      " 7   Marital_Status              10996 non-null  int64  \n",
      " 8   Product_Category_1          10996 non-null  int64  \n",
      " 9   Product_Category_2          10996 non-null  float64\n",
      " 10  Product_Category_3          10996 non-null  float64\n",
      " 11  Purchase                    10996 non-null  int64  \n",
      "dtypes: float64(2), int64(5), object(5)\n",
      "memory usage: 1.0+ MB\n"
     ]
    }
   ],
   "source": [
    "dataset.info()"
   ]
  },
  {
   "cell_type": "code",
   "execution_count": 11,
   "id": "56e1ec11",
   "metadata": {},
   "outputs": [
    {
     "data": {
      "text/html": [
       "<div>\n",
       "<style scoped>\n",
       "    .dataframe tbody tr th:only-of-type {\n",
       "        vertical-align: middle;\n",
       "    }\n",
       "\n",
       "    .dataframe tbody tr th {\n",
       "        vertical-align: top;\n",
       "    }\n",
       "\n",
       "    .dataframe thead th {\n",
       "        text-align: right;\n",
       "    }\n",
       "</style>\n",
       "<table border=\"1\" class=\"dataframe\">\n",
       "  <thead>\n",
       "    <tr style=\"text-align: right;\">\n",
       "      <th></th>\n",
       "      <th>User_ID</th>\n",
       "      <th>Product_ID</th>\n",
       "      <th>Gender</th>\n",
       "      <th>Age</th>\n",
       "      <th>Occupation</th>\n",
       "      <th>City_Category</th>\n",
       "      <th>Stay_In_Current_City_Years</th>\n",
       "      <th>Marital_Status</th>\n",
       "      <th>Product_Category_1</th>\n",
       "      <th>Product_Category_2</th>\n",
       "      <th>Product_Category_3</th>\n",
       "      <th>Purchase</th>\n",
       "    </tr>\n",
       "  </thead>\n",
       "  <tbody>\n",
       "    <tr>\n",
       "      <th>0</th>\n",
       "      <td>1000001</td>\n",
       "      <td>P00069042</td>\n",
       "      <td>F</td>\n",
       "      <td>0-17</td>\n",
       "      <td>10</td>\n",
       "      <td>A</td>\n",
       "      <td>2</td>\n",
       "      <td>0</td>\n",
       "      <td>3</td>\n",
       "      <td>9.779873</td>\n",
       "      <td>12.812293</td>\n",
       "      <td>8370</td>\n",
       "    </tr>\n",
       "    <tr>\n",
       "      <th>1</th>\n",
       "      <td>1000001</td>\n",
       "      <td>P00248942</td>\n",
       "      <td>F</td>\n",
       "      <td>0-17</td>\n",
       "      <td>10</td>\n",
       "      <td>A</td>\n",
       "      <td>2</td>\n",
       "      <td>0</td>\n",
       "      <td>1</td>\n",
       "      <td>6.000000</td>\n",
       "      <td>14.000000</td>\n",
       "      <td>15200</td>\n",
       "    </tr>\n",
       "    <tr>\n",
       "      <th>2</th>\n",
       "      <td>1000001</td>\n",
       "      <td>P00087842</td>\n",
       "      <td>F</td>\n",
       "      <td>0-17</td>\n",
       "      <td>10</td>\n",
       "      <td>A</td>\n",
       "      <td>2</td>\n",
       "      <td>0</td>\n",
       "      <td>12</td>\n",
       "      <td>9.779873</td>\n",
       "      <td>12.812293</td>\n",
       "      <td>1422</td>\n",
       "    </tr>\n",
       "    <tr>\n",
       "      <th>3</th>\n",
       "      <td>1000001</td>\n",
       "      <td>P00085442</td>\n",
       "      <td>F</td>\n",
       "      <td>0-17</td>\n",
       "      <td>10</td>\n",
       "      <td>A</td>\n",
       "      <td>2</td>\n",
       "      <td>0</td>\n",
       "      <td>12</td>\n",
       "      <td>14.000000</td>\n",
       "      <td>12.812293</td>\n",
       "      <td>1057</td>\n",
       "    </tr>\n",
       "    <tr>\n",
       "      <th>4</th>\n",
       "      <td>1000002</td>\n",
       "      <td>P00285442</td>\n",
       "      <td>M</td>\n",
       "      <td>55+</td>\n",
       "      <td>16</td>\n",
       "      <td>C</td>\n",
       "      <td>4+</td>\n",
       "      <td>0</td>\n",
       "      <td>8</td>\n",
       "      <td>9.779873</td>\n",
       "      <td>12.812293</td>\n",
       "      <td>7969</td>\n",
       "    </tr>\n",
       "  </tbody>\n",
       "</table>\n",
       "</div>"
      ],
      "text/plain": [
       "   User_ID Product_ID Gender   Age  Occupation City_Category  \\\n",
       "0  1000001  P00069042      F  0-17          10             A   \n",
       "1  1000001  P00248942      F  0-17          10             A   \n",
       "2  1000001  P00087842      F  0-17          10             A   \n",
       "3  1000001  P00085442      F  0-17          10             A   \n",
       "4  1000002  P00285442      M   55+          16             C   \n",
       "\n",
       "  Stay_In_Current_City_Years  Marital_Status  Product_Category_1  \\\n",
       "0                          2               0                   3   \n",
       "1                          2               0                   1   \n",
       "2                          2               0                  12   \n",
       "3                          2               0                  12   \n",
       "4                         4+               0                   8   \n",
       "\n",
       "   Product_Category_2  Product_Category_3  Purchase  \n",
       "0            9.779873           12.812293      8370  \n",
       "1            6.000000           14.000000     15200  \n",
       "2            9.779873           12.812293      1422  \n",
       "3           14.000000           12.812293      1057  \n",
       "4            9.779873           12.812293      7969  "
      ]
     },
     "execution_count": 11,
     "metadata": {},
     "output_type": "execute_result"
    }
   ],
   "source": [
    "dataset.head()"
   ]
  },
  {
   "cell_type": "code",
   "execution_count": 12,
   "id": "575cb3ca",
   "metadata": {},
   "outputs": [],
   "source": [
    "#There are still some special characters, like (+) in the columns 'Age' and 'stay in Current City_Years, which need to be removed, before machine learning algorithms can be run later.\n",
    "dataset['Age']=(dataset['Age'].str.strip('+'))\n",
    "dataset['Stay_In_Current_City_Years']=(dataset['Stay_In_Current_City_Years'].str.strip('+').astype('float'))"
   ]
  },
  {
   "cell_type": "markdown",
   "id": "0c343195",
   "metadata": {},
   "source": [
    "##  Feature extraction"
   ]
  },
  {
   "cell_type": "code",
   "execution_count": 13,
   "id": "999fa7fd",
   "metadata": {
    "scrolled": true
   },
   "outputs": [
    {
     "name": "stdout",
     "output_type": "stream",
     "text": [
      "<class 'pandas.core.frame.DataFrame'>\n",
      "RangeIndex: 10996 entries, 0 to 10995\n",
      "Data columns (total 10 columns):\n",
      " #   Column                      Non-Null Count  Dtype  \n",
      "---  ------                      --------------  -----  \n",
      " 0   Gender                      10996 non-null  object \n",
      " 1   Age                         10996 non-null  object \n",
      " 2   Occupation                  10996 non-null  int64  \n",
      " 3   City_Category               10996 non-null  object \n",
      " 4   Stay_In_Current_City_Years  10996 non-null  float64\n",
      " 5   Marital_Status              10996 non-null  int64  \n",
      " 6   Product_Category_1          10996 non-null  int64  \n",
      " 7   Product_Category_2          10996 non-null  float64\n",
      " 8   Product_Category_3          10996 non-null  float64\n",
      " 9   Purchase                    10996 non-null  int64  \n",
      "dtypes: float64(3), int64(4), object(3)\n",
      "memory usage: 859.2+ KB\n"
     ]
    }
   ],
   "source": [
    "#Dropping the columns that intuitiey should not imapact the purchase outcome, i.e. User_ID and Product ID.\n",
    "dataset.drop(['User_ID','Product_ID'], axis=1, inplace=True)\n",
    "dataset.info()"
   ]
  },
  {
   "cell_type": "code",
   "execution_count": 14,
   "id": "052fcfe1",
   "metadata": {},
   "outputs": [
    {
     "data": {
      "text/html": [
       "<div>\n",
       "<style scoped>\n",
       "    .dataframe tbody tr th:only-of-type {\n",
       "        vertical-align: middle;\n",
       "    }\n",
       "\n",
       "    .dataframe tbody tr th {\n",
       "        vertical-align: top;\n",
       "    }\n",
       "\n",
       "    .dataframe thead th {\n",
       "        text-align: right;\n",
       "    }\n",
       "</style>\n",
       "<table border=\"1\" class=\"dataframe\">\n",
       "  <thead>\n",
       "    <tr style=\"text-align: right;\">\n",
       "      <th></th>\n",
       "      <th>Gender</th>\n",
       "      <th>Age</th>\n",
       "      <th>Occupation</th>\n",
       "      <th>City_Category</th>\n",
       "      <th>Stay_In_Current_City_Years</th>\n",
       "      <th>Marital_Status</th>\n",
       "      <th>Product_Category_1</th>\n",
       "      <th>Product_Category_2</th>\n",
       "      <th>Product_Category_3</th>\n",
       "      <th>Purchase</th>\n",
       "    </tr>\n",
       "  </thead>\n",
       "  <tbody>\n",
       "    <tr>\n",
       "      <th>0</th>\n",
       "      <td>F</td>\n",
       "      <td>0-17</td>\n",
       "      <td>10</td>\n",
       "      <td>A</td>\n",
       "      <td>2.0</td>\n",
       "      <td>0</td>\n",
       "      <td>3</td>\n",
       "      <td>9.779873</td>\n",
       "      <td>12.812293</td>\n",
       "      <td>8370</td>\n",
       "    </tr>\n",
       "    <tr>\n",
       "      <th>1</th>\n",
       "      <td>F</td>\n",
       "      <td>0-17</td>\n",
       "      <td>10</td>\n",
       "      <td>A</td>\n",
       "      <td>2.0</td>\n",
       "      <td>0</td>\n",
       "      <td>1</td>\n",
       "      <td>6.000000</td>\n",
       "      <td>14.000000</td>\n",
       "      <td>15200</td>\n",
       "    </tr>\n",
       "    <tr>\n",
       "      <th>2</th>\n",
       "      <td>F</td>\n",
       "      <td>0-17</td>\n",
       "      <td>10</td>\n",
       "      <td>A</td>\n",
       "      <td>2.0</td>\n",
       "      <td>0</td>\n",
       "      <td>12</td>\n",
       "      <td>9.779873</td>\n",
       "      <td>12.812293</td>\n",
       "      <td>1422</td>\n",
       "    </tr>\n",
       "    <tr>\n",
       "      <th>3</th>\n",
       "      <td>F</td>\n",
       "      <td>0-17</td>\n",
       "      <td>10</td>\n",
       "      <td>A</td>\n",
       "      <td>2.0</td>\n",
       "      <td>0</td>\n",
       "      <td>12</td>\n",
       "      <td>14.000000</td>\n",
       "      <td>12.812293</td>\n",
       "      <td>1057</td>\n",
       "    </tr>\n",
       "    <tr>\n",
       "      <th>4</th>\n",
       "      <td>M</td>\n",
       "      <td>55</td>\n",
       "      <td>16</td>\n",
       "      <td>C</td>\n",
       "      <td>4.0</td>\n",
       "      <td>0</td>\n",
       "      <td>8</td>\n",
       "      <td>9.779873</td>\n",
       "      <td>12.812293</td>\n",
       "      <td>7969</td>\n",
       "    </tr>\n",
       "    <tr>\n",
       "      <th>5</th>\n",
       "      <td>M</td>\n",
       "      <td>26-35</td>\n",
       "      <td>15</td>\n",
       "      <td>A</td>\n",
       "      <td>3.0</td>\n",
       "      <td>0</td>\n",
       "      <td>1</td>\n",
       "      <td>2.000000</td>\n",
       "      <td>12.812293</td>\n",
       "      <td>15227</td>\n",
       "    </tr>\n",
       "    <tr>\n",
       "      <th>6</th>\n",
       "      <td>M</td>\n",
       "      <td>46-50</td>\n",
       "      <td>7</td>\n",
       "      <td>B</td>\n",
       "      <td>2.0</td>\n",
       "      <td>1</td>\n",
       "      <td>1</td>\n",
       "      <td>8.000000</td>\n",
       "      <td>17.000000</td>\n",
       "      <td>19215</td>\n",
       "    </tr>\n",
       "    <tr>\n",
       "      <th>7</th>\n",
       "      <td>M</td>\n",
       "      <td>46-50</td>\n",
       "      <td>7</td>\n",
       "      <td>B</td>\n",
       "      <td>2.0</td>\n",
       "      <td>1</td>\n",
       "      <td>1</td>\n",
       "      <td>15.000000</td>\n",
       "      <td>12.812293</td>\n",
       "      <td>15854</td>\n",
       "    </tr>\n",
       "    <tr>\n",
       "      <th>8</th>\n",
       "      <td>M</td>\n",
       "      <td>46-50</td>\n",
       "      <td>7</td>\n",
       "      <td>B</td>\n",
       "      <td>2.0</td>\n",
       "      <td>1</td>\n",
       "      <td>1</td>\n",
       "      <td>16.000000</td>\n",
       "      <td>12.812293</td>\n",
       "      <td>15686</td>\n",
       "    </tr>\n",
       "    <tr>\n",
       "      <th>9</th>\n",
       "      <td>M</td>\n",
       "      <td>26-35</td>\n",
       "      <td>20</td>\n",
       "      <td>A</td>\n",
       "      <td>1.0</td>\n",
       "      <td>1</td>\n",
       "      <td>8</td>\n",
       "      <td>9.779873</td>\n",
       "      <td>12.812293</td>\n",
       "      <td>7871</td>\n",
       "    </tr>\n",
       "  </tbody>\n",
       "</table>\n",
       "</div>"
      ],
      "text/plain": [
       "  Gender    Age  Occupation City_Category  Stay_In_Current_City_Years  \\\n",
       "0      F   0-17          10             A                         2.0   \n",
       "1      F   0-17          10             A                         2.0   \n",
       "2      F   0-17          10             A                         2.0   \n",
       "3      F   0-17          10             A                         2.0   \n",
       "4      M     55          16             C                         4.0   \n",
       "5      M  26-35          15             A                         3.0   \n",
       "6      M  46-50           7             B                         2.0   \n",
       "7      M  46-50           7             B                         2.0   \n",
       "8      M  46-50           7             B                         2.0   \n",
       "9      M  26-35          20             A                         1.0   \n",
       "\n",
       "   Marital_Status  Product_Category_1  Product_Category_2  Product_Category_3  \\\n",
       "0               0                   3            9.779873           12.812293   \n",
       "1               0                   1            6.000000           14.000000   \n",
       "2               0                  12            9.779873           12.812293   \n",
       "3               0                  12           14.000000           12.812293   \n",
       "4               0                   8            9.779873           12.812293   \n",
       "5               0                   1            2.000000           12.812293   \n",
       "6               1                   1            8.000000           17.000000   \n",
       "7               1                   1           15.000000           12.812293   \n",
       "8               1                   1           16.000000           12.812293   \n",
       "9               1                   8            9.779873           12.812293   \n",
       "\n",
       "   Purchase  \n",
       "0      8370  \n",
       "1     15200  \n",
       "2      1422  \n",
       "3      1057  \n",
       "4      7969  \n",
       "5     15227  \n",
       "6     19215  \n",
       "7     15854  \n",
       "8     15686  \n",
       "9      7871  "
      ]
     },
     "execution_count": 14,
     "metadata": {},
     "output_type": "execute_result"
    }
   ],
   "source": [
    "dataset.head(10)"
   ]
  },
  {
   "cell_type": "markdown",
   "id": "9a8f3b08",
   "metadata": {},
   "source": [
    "### Creating a train test split"
   ]
  },
  {
   "cell_type": "code",
   "execution_count": 15,
   "id": "e4a4c6ae",
   "metadata": {},
   "outputs": [],
   "source": [
    "#Having listed down the insights from each step above, let us now move to the next stage of the project, i.e data modelling and predication of sales\n",
    "\n",
    "#Dividing the data into test and train datasets\n",
    "X = dataset.iloc[:, 0:9].values\n",
    "y = dataset.iloc[:, 9].values\n",
    "from sklearn.model_selection import train_test_split\n",
    "X_train, X_test, y_train, y_test = train_test_split(X, y, test_size = 0.2, random_state = 0)"
   ]
  },
  {
   "cell_type": "code",
   "execution_count": 16,
   "id": "1f45ef20",
   "metadata": {},
   "outputs": [
    {
     "data": {
      "text/plain": [
       "array([['F', '18-25', 9, ..., 5, 8.0, 12.812292859294969],\n",
       "       ['F', '36-45', 14, ..., 3, 4.0, 12.0],\n",
       "       ['F', '18-25', 12, ..., 8, 14.0, 12.812292859294969],\n",
       "       ...,\n",
       "       ['M', '18-25', 4, ..., 5, 9.779873366563384, 12.812292859294969],\n",
       "       ['M', '18-25', 18, ..., 8, 9.779873366563384, 12.812292859294969],\n",
       "       ['M', '18-25', 11, ..., 4, 5.0, 12.812292859294969]], dtype=object)"
      ]
     },
     "execution_count": 16,
     "metadata": {},
     "output_type": "execute_result"
    }
   ],
   "source": [
    "X_train"
   ]
  },
  {
   "cell_type": "markdown",
   "id": "08050a71",
   "metadata": {},
   "source": [
    "### Feature Scaling"
   ]
  },
  {
   "cell_type": "code",
   "execution_count": 17,
   "id": "2f752ee7",
   "metadata": {},
   "outputs": [],
   "source": [
    "#For X_rrain and X_test, there are categorical variables, which need to be encoded before they can be incorporated into the data model. We will convert each of the variable step by step and cross check our results.\n",
    "from sklearn.preprocessing import LabelEncoder\n",
    "labelencoder = LabelEncoder()\n",
    "X_train[:, 0] = labelencoder.fit_transform(X_train[:, 0])"
   ]
  },
  {
   "cell_type": "code",
   "execution_count": 18,
   "id": "a0146ef8",
   "metadata": {},
   "outputs": [],
   "source": [
    "X_train[:, 1] = labelencoder.fit_transform(X_train[:, 1])"
   ]
  },
  {
   "cell_type": "code",
   "execution_count": 19,
   "id": "6ff30b76",
   "metadata": {},
   "outputs": [],
   "source": [
    "X_train[:, 3] = labelencoder.fit_transform(X_train[:, 3])"
   ]
  },
  {
   "cell_type": "code",
   "execution_count": 20,
   "id": "2ebe7da8",
   "metadata": {},
   "outputs": [
    {
     "data": {
      "text/plain": [
       "array([[0, 1, 9, ..., 5, 8.0, 12.812292859294969],\n",
       "       [0, 3, 14, ..., 3, 4.0, 12.0],\n",
       "       [0, 1, 12, ..., 8, 14.0, 12.812292859294969],\n",
       "       ...,\n",
       "       [1, 1, 4, ..., 5, 9.779873366563384, 12.812292859294969],\n",
       "       [1, 1, 18, ..., 8, 9.779873366563384, 12.812292859294969],\n",
       "       [1, 1, 11, ..., 4, 5.0, 12.812292859294969]], dtype=object)"
      ]
     },
     "execution_count": 20,
     "metadata": {},
     "output_type": "execute_result"
    }
   ],
   "source": [
    "X_train"
   ]
  },
  {
   "cell_type": "code",
   "execution_count": 21,
   "id": "013e5ae9",
   "metadata": {},
   "outputs": [],
   "source": [
    "X_test[:, 0] = labelencoder.fit_transform(X_test[:, 0])\n",
    "X_test[:, 1] = labelencoder.fit_transform(X_test[:, 1])\n",
    "X_test[:, 3] = labelencoder.fit_transform(X_test[:, 3])"
   ]
  },
  {
   "cell_type": "code",
   "execution_count": 22,
   "id": "d25595ce",
   "metadata": {},
   "outputs": [
    {
     "data": {
      "text/plain": [
       "array([[0, 3, 8, ..., 16, 9.779873366563384, 12.812292859294969],\n",
       "       [1, 2, 17, ..., 1, 2.0, 14.0],\n",
       "       [1, 2, 0, ..., 8, 9.779873366563384, 12.812292859294969],\n",
       "       ...,\n",
       "       [1, 2, 0, ..., 1, 2.0, 5.0],\n",
       "       [0, 2, 20, ..., 8, 9.779873366563384, 12.812292859294969],\n",
       "       [1, 4, 3, ..., 1, 5.0, 12.0]], dtype=object)"
      ]
     },
     "execution_count": 22,
     "metadata": {},
     "output_type": "execute_result"
    }
   ],
   "source": [
    "X_test"
   ]
  },
  {
   "cell_type": "code",
   "execution_count": 23,
   "id": "45dada61",
   "metadata": {},
   "outputs": [],
   "source": [
    "#Having encoded the features, in the next step we will scale all the features to avoid issues due to different measurement scales.\n",
    "from sklearn.preprocessing import StandardScaler\n",
    "sc = StandardScaler()\n",
    "X_train = sc.fit_transform(X_train)\n",
    "X_test = sc.fit_transform(X_test)"
   ]
  },
  {
   "cell_type": "code",
   "execution_count": 24,
   "id": "f126d422",
   "metadata": {},
   "outputs": [
    {
     "data": {
      "text/plain": [
       "array([[-1.79294791, -1.02343166,  0.08086802, ..., -0.07564068,\n",
       "        -0.4223487 ,  0.00611321],\n",
       "       [-1.79294791,  0.44858287,  0.8236783 , ..., -0.61921534,\n",
       "        -1.37939844, -0.35820779],\n",
       "       [-1.79294791, -1.02343166,  0.52655419, ...,  0.73972132,\n",
       "         1.01322593,  0.00611321],\n",
       "       ...,\n",
       "       [ 0.55774069, -1.02343166, -0.66194226, ..., -0.07564068,\n",
       "         0.00350814,  0.00611321],\n",
       "       [ 0.55774069, -1.02343166,  1.41792653, ...,  0.73972132,\n",
       "         0.00350814,  0.00611321],\n",
       "       [ 0.55774069, -1.02343166,  0.37799213, ..., -0.34742801,\n",
       "        -1.14013601,  0.00611321]])"
      ]
     },
     "execution_count": 24,
     "metadata": {},
     "output_type": "execute_result"
    }
   ],
   "source": [
    "X_train"
   ]
  },
  {
   "cell_type": "markdown",
   "id": "6b48bbd7",
   "metadata": {},
   "source": [
    "## Step 4: Data Modelling"
   ]
  },
  {
   "cell_type": "code",
   "execution_count": 25,
   "id": "a0af69f2",
   "metadata": {},
   "outputs": [],
   "source": [
    "from sklearn.linear_model import LinearRegression\n",
    "lin_reg = LinearRegression()\n",
    "lin_reg.fit(X_train, y_train)\n",
    "Y_pred_lin_reg = lin_reg.predict(X_test)"
   ]
  },
  {
   "cell_type": "code",
   "execution_count": 26,
   "id": "3c8edf0c",
   "metadata": {},
   "outputs": [],
   "source": [
    "from sklearn.neighbors import KNeighborsRegressor\n",
    "knn = KNeighborsRegressor()\n",
    "knn.fit(X_train, y_train)\n",
    "Y_pred_knn = knn.predict(X_test)"
   ]
  },
  {
   "cell_type": "code",
   "execution_count": 27,
   "id": "5c75b053",
   "metadata": {},
   "outputs": [],
   "source": [
    "from sklearn.tree import DecisionTreeRegressor\n",
    "dec_tree = DecisionTreeRegressor()\n",
    "dec_tree.fit(X_train, y_train)\n",
    "Y_pred_dec = dec_tree.predict(X_test)"
   ]
  },
  {
   "cell_type": "code",
   "execution_count": 28,
   "id": "883c6602",
   "metadata": {},
   "outputs": [],
   "source": [
    "from sklearn.ensemble import RandomForestRegressor\n",
    "ran_for = RandomForestRegressor()\n",
    "ran_for.fit(X_train, y_train)\n",
    "Y_pred_ran_for = ran_for.predict(X_test)"
   ]
  },
  {
   "cell_type": "code",
   "execution_count": 29,
   "id": "bd9ddb6d",
   "metadata": {},
   "outputs": [],
   "source": [
    "regressor = RandomForestRegressor()\n",
    "regressor.fit(X_train, y_train)  \n",
    "y_pred = regressor.predict(X_test)"
   ]
  },
  {
   "cell_type": "markdown",
   "id": "62304de5",
   "metadata": {},
   "source": [
    "## Step 5: Model Evaluation"
   ]
  },
  {
   "cell_type": "code",
   "execution_count": 30,
   "id": "4adb2443",
   "metadata": {},
   "outputs": [],
   "source": [
    "from sklearn.metrics import mean_squared_error\n",
    "from sklearn.metrics import r2_score"
   ]
  },
  {
   "cell_type": "code",
   "execution_count": 31,
   "id": "b2aea972",
   "metadata": {},
   "outputs": [
    {
     "name": "stdout",
     "output_type": "stream",
     "text": [
      "Linear Regression: \n",
      "RMSE: 4625.780159967936\n",
      "R2 score: 0.10028039310444159\n",
      "\n",
      "KNN regression: \n",
      "RMSE: 4423.937108477429\n",
      "R2 score: 0.1770847790129585\n",
      "\n",
      "Decision tree regression: \n",
      "RMSE: 3929.0400352231663\n",
      "R2 score: 0.3509022333589765\n",
      "\n",
      "Random forest regression: \n",
      "RMSE: 3100.0705267952167\n",
      "R2 score: 0.5959079047340519\n"
     ]
    }
   ],
   "source": [
    "print(\"Linear Regression: \")\n",
    "print(\"RMSE:\",np.sqrt(mean_squared_error(y_test, Y_pred_lin_reg)))\n",
    "print(\"R2 score:\", r2_score(y_test, Y_pred_lin_reg))\n",
    "print(\"\\nKNN regression: \")\n",
    "print(\"RMSE:\",np.sqrt(mean_squared_error(y_test, Y_pred_knn)))\n",
    "print(\"R2 score:\", r2_score(y_test, Y_pred_knn))\n",
    "print(\"\\nDecision tree regression: \")\n",
    "print(\"RMSE:\",np.sqrt(mean_squared_error(y_test, Y_pred_dec)))\n",
    "print(\"R2 score:\", r2_score(y_test, Y_pred_dec))\n",
    "print(\"\\nRandom forest regression: \")\n",
    "print(\"RMSE:\",np.sqrt(mean_squared_error(y_test, Y_pred_ran_for)))\n",
    "print(\"R2 score:\", r2_score(y_test, Y_pred_ran_for))"
   ]
  },
  {
   "cell_type": "code",
   "execution_count": 32,
   "id": "3a7b6485",
   "metadata": {},
   "outputs": [
    {
     "data": {
      "image/png": "[encoded data removed]",
      "text/plain": [
       "<Figure size 720x360 with 1 Axes>"
      ]
     },
     "metadata": {},
     "output_type": "display_data"
    }
   ],
   "source": [
    "data = {'Linear Regression':np.sqrt(mean_squared_error(y_test, Y_pred_lin_reg)), 'KNN regression':np.sqrt(mean_squared_error(y_test, Y_pred_knn)), 'Decision tree regression':np.sqrt(mean_squared_error(y_test, Y_pred_dec)),\n",
    "        'Random forest regression':np.sqrt(mean_squared_error(y_test, Y_pred_ran_for))}\n",
    "models = list(data.keys())\n",
    "values = list(data.values())\n",
    "  \n",
    "fig = plt.figure(figsize = (10, 5))\n",
    " \n",
    "# creating the bar plot\n",
    "plt.bar(models, values, color ='maroon',\n",
    "        width = 0.4)\n",
    " \n",
    "plt.xlabel(\"Models Applied\")\n",
    "plt.ylabel(\"Root Mean Square Error\")\n",
    "plt.title(\"Error in different Models\")\n",
    "plt.show()"
   ]
  },
  {
   "cell_type": "markdown",
   "id": "95a0b2f5",
   "metadata": {},
   "source": [
    "## Model Output"
   ]
  },
  {
   "cell_type": "code",
   "execution_count": 33,
   "id": "d30d2a0e",
   "metadata": {},
   "outputs": [],
   "source": [
    "regressor = RandomForestRegressor()\n",
    "regressor.fit(X_train, y_train)  \n",
    "y_pred = regressor.predict(X_test)"
   ]
  },
  {
   "cell_type": "code",
   "execution_count": 34,
   "id": "3e0d3295",
   "metadata": {},
   "outputs": [
    {
     "data": {
      "text/plain": [
       "array([16481, 19073,  7802, ..., 11920,  8044, 12043], dtype=int64)"
      ]
     },
     "execution_count": 34,
     "metadata": {},
     "output_type": "execute_result"
    }
   ],
   "source": [
    "y_test"
   ]
  },
  {
   "cell_type": "code",
   "execution_count": 35,
   "id": "9fddba61",
   "metadata": {},
   "outputs": [
    {
     "data": {
      "text/plain": [
       "array([14509.47116667, 13645.576     ,  7011.21967005, ...,\n",
       "       13512.204     ,  5193.05833978, 13916.66833333])"
      ]
     },
     "execution_count": 35,
     "metadata": {},
     "output_type": "execute_result"
    }
   ],
   "source": [
    "y_pred"
   ]
  },
  {
   "cell_type": "code",
   "execution_count": 36,
   "id": "b16f5cc6",
   "metadata": {},
   "outputs": [
    {
     "data": {
      "text/plain": [
       "(2200,)"
      ]
     },
     "execution_count": 36,
     "metadata": {},
     "output_type": "execute_result"
    }
   ],
   "source": [
    "y_pred.shape"
   ]
  },
  {
   "cell_type": "code",
   "execution_count": 37,
   "id": "67c3f535",
   "metadata": {},
   "outputs": [
    {
     "name": "stdout",
     "output_type": "stream",
     "text": [
      "\n",
      "Random forest regression: \n",
      "RMSE: 3100.0705267952167\n",
      "R2 score: 0.5959079047340519\n"
     ]
    }
   ],
   "source": [
    "print(\"\\nRandom forest regression: \")\n",
    "print(\"RMSE:\",np.sqrt(mean_squared_error(y_test, Y_pred_ran_for)))\n",
    "print(\"R2 score:\", r2_score(y_test, Y_pred_ran_for))"
   ]
  },
  {
   "cell_type": "code",
   "execution_count": 38,
   "id": "16c336ea",
   "metadata": {},
   "outputs": [
    {
     "data": {
      "text/plain": [
       "array([[-1.84629836,  0.43261022, -0.06358014, ...,  2.91865409,\n",
       "        -0.01427284, -0.0245643 ],\n",
       "       [ 0.54162427, -0.3109386 ,  1.27994887, ..., -1.19704478,\n",
       "        -1.90843616,  0.510805  ],\n",
       "       [ 0.54162427, -0.3109386 , -1.25782814, ...,  0.72361469,\n",
       "        -0.01427284, -0.0245643 ],\n",
       "       ...,\n",
       "       [ 0.54162427, -0.3109386 , -1.25782814, ..., -1.19704478,\n",
       "        -1.90843616, -3.54602313],\n",
       "       [-1.84629836, -0.3109386 ,  1.72779187, ...,  0.72361469,\n",
       "        -0.01427284, -0.0245643 ],\n",
       "       [ 0.54162427,  1.17615904, -0.80998514, ..., -1.19704478,\n",
       "        -1.1780271 , -0.39071236]])"
      ]
     },
     "execution_count": 38,
     "metadata": {},
     "output_type": "execute_result"
    }
   ],
   "source": [
    "X_test"
   ]
  },
  {
   "cell_type": "code",
   "execution_count": 39,
   "id": "749b81a3",
   "metadata": {},
   "outputs": [],
   "source": [
    "val = [[0,52,9,1,1.0,0,5,8.00,14.00]]"
   ]
  },
  {
   "cell_type": "code",
   "execution_count": 40,
   "id": "11b38328",
   "metadata": {},
   "outputs": [],
   "source": [
    "pred = regressor.predict(val)"
   ]
  },
  {
   "cell_type": "code",
   "execution_count": 41,
   "id": "5e82d8b5",
   "metadata": {},
   "outputs": [
    {
     "data": {
      "text/plain": [
       "array([2444.48166667])"
      ]
     },
     "execution_count": 41,
     "metadata": {},
     "output_type": "execute_result"
    }
   ],
   "source": [
    "pred"
   ]
  },
  {
   "cell_type": "code",
   "execution_count": null,
   "id": "f8a08e62",
   "metadata": {},
   "outputs": [],
   "source": []
  }
 ],
 "metadata": {
  "kernelspec": {
   "display_name": "Python 3",
   "language": "python",
   "name": "python3"
  },
  "language_info": {
   "codemirror_mode": {
    "name": "ipython",
    "version": 3
   },
   "file_extension": ".py",
   "mimetype": "text/x-python",
   "name": "python",
   "nbconvert_exporter": "python",
   "pygments_lexer": "ipython3",
   "version": "3.9.4"
  }
 },
 "nbformat": 4,
 "nbformat_minor": 5
}
